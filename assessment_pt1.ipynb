{
 "cells": [
  {
   "cell_type": "markdown",
   "id": "155f25e9-c9d9-4171-9abd-ba8bfac12536",
   "metadata": {},
   "source": [
    "# MSc Artificial Intelligence — Machine Learning  \n",
    "## Coursework Part 1 (2025/26): Stock Modelling & Prediction\n",
    "\n",
    "**Release:** Thu 25 September 2025 (Week 2) 17:00 (Europe/London)  \n",
    "**Due:** Mon 3 Nov 2025 (Week 8) 09:00  \n",
    "**Feedback by:** Mon 24 Nov 2025  \n",
    "**Weighting:** **50%** of the module mark\n",
    "\n",
    "---\n",
    "\n",
    "## Task\n",
    "Develop a machine-learning pipeline for **single-stock prediction** and package it as a Python class **`Student`**. The goal is to forecast the **next-_H_-day cumulative log return** (default: _H_=1). The staff tester will evaluate your model using a leakage-safe, walk-forward procedure. The **Target** is next-_H_-day **cumulative log return** $y_t = \\log(C_{t+H}/C_t)$, and the tester will compute $y_{train}$ and $y_{test}$ from $close$ when calling the **`Student`** class. \n",
    "*You may compute past log-returns and other indicators as features inside your model, but do not redefine the target.*\n",
    "\n",
    "More specifically, you will:\n",
    "\n",
    "1. **Design a reproducible ML pipeline** via data engineering, feature engineering, model/parameter selection.  \n",
    "   *Repro notes:* use fixed random seeds; include a `requirements.txt` cell; state expected runtime (< 15 minutes per ticker for tested folds on a standard laptop).\n",
    "\n",
    "2. **Evaluate the pipeline across a practice ticker universe** (\"TLT\",\"GLD\",\"XLP\",\"XLU\",\"XLV\") via time-aware validation (walk-forward / expanding window). Report Directional Accuracy, MAE, RMSE.  \n",
    "   **No leakage:** use only information available up to time *t* to predict *t+_h_* (the tester enforces walk-forward fitting).\n",
    "\n",
    "3. **Iterate** steps (1)–(2) to select your **best** pipeline.\n",
    "\n",
    "4. **Implement your best pipeline** as **`Student`** exposing `fit(X_train, y_train, meta)` and `predict(X, meta)` (API below).\n",
    "\n",
    "5. **Create one Jupyter Notebook** that (a) documents your exploration and evidence, and (b) contains your final `Student` class (a code cell). Staff will test your class with a tool: **`mltester`** (ML metrics).\n",
    "\n",
    "## Provided\n",
    "- **`mltester.py`** — an evaluator that:\n",
    "  - loads per-ticker OHLCV from a long file (`date,ticker,close[,open,high,low,volume,adj_close]`),\n",
    "  - constructs the target \\(y_t\\) for a chosen horizon `H`,\n",
    "  - runs expanding-window walk-forward (re-fit every `step` test days),\n",
    "  - reports Directional Accuracy (DirAcc), MAE, RMSE, and saves per-ticker CSVs + a summary.\n",
    "- **Example `student.py`** — minimal baseline showing the required API and simple, causal features.\n",
    "- **Practice data** — you will prototype with a practice universe of tickers and download data from Yahoo Finance; final grading uses a held-out universe."
   ]
  },
  {
   "cell_type": "markdown",
   "id": "22d82533-2ee7-4362-ac8c-67eb40047b6b",
   "metadata": {},
   "source": [
    "## Quick sanity run"
   ]
  },
  {
   "cell_type": "code",
   "execution_count": null,
   "id": "f9ed91bd-563f-44c9-bedf-e65d4e29a77c",
   "metadata": {},
   "outputs": [],
   "source": [
    "# ML metrics\n",
    "python mltester.py \\\n",
    "  --model ./student.py:Student \\\n",
    "  --tickers SPY TLT GLD \\\n",
    "  --data-file data/prices.csv \\\n",
    "  --start 2015-01-01 --end 2019-12-31 \\\n",
    "  --horizon 5 --step 10 \\\n",
    "  --out-dir outputs"
   ]
  },
  {
   "cell_type": "markdown",
   "id": "19ad1ec3-96e2-4cf2-8c4e-b2d65d29a7e7",
   "metadata": {},
   "source": [
    "## Data file expected by the tool  \n",
    "A single long CSV file with columns:"
   ]
  },
  {
   "cell_type": "code",
   "execution_count": null,
   "id": "f42a54bf-0103-446f-abe7-a40bfb8127f2",
   "metadata": {},
   "outputs": [],
   "source": [
    "date, ticker, close[, open, high, low, volume, adj_close]"
   ]
  },
  {
   "cell_type": "markdown",
   "id": "0cca5410-399b-4581-b591-b8f8138ea1fc",
   "metadata": {},
   "source": [
    "## `Student` API (must match)"
   ]
  },
  {
   "cell_type": "code",
   "execution_count": null,
   "id": "4d59e653-816c-4421-b493-111d2ae50004",
   "metadata": {},
   "outputs": [],
   "source": [
    "import pandas as pd\n",
    "\n",
    "class Student:\n",
    "    def __init__(self, config: dict | None = None, random_state: int = 42):\n",
    "        \"\"\"Store hyperparameters, initialise pipeline objects, set seeds.\"\"\"\n",
    "\n",
    "    def fit(self,\n",
    "            X_train: pd.DataFrame,   # Per-ticker OHLCV indexed by date; includes at least 'Close'\n",
    "            y_train: pd.Series,      # Provided by tester: next-h-day cumulative log return\n",
    "            meta: dict | None = None # e.g., {\"ticker\": \"...\", \"horizon\": h}\n",
    "           ):\n",
    "        \"\"\"Train using only information available up to each training date. Return self.\"\"\"\n",
    "        return self\n",
    "\n",
    "    def predict(self,\n",
    "                X: pd.DataFrame,      # Per-ticker OHLCV up to and including prediction dates\n",
    "                meta: dict | None = None\n",
    "               ) -> pd.Series:\n",
    "        \"\"\"Return a numeric Series named 'y_pred' on the dates where features exist.\"\"\"\n",
    "        return y_pred\n"
   ]
  },
  {
   "cell_type": "markdown",
   "id": "0e22c6cc-7b2f-439f-acb2-ada0ae2b5105",
   "metadata": {},
   "source": [
    "## How staff will test\n",
    "`mltester.py`: walk-forward evaluation with periodic re-fit (default every 5 test days). Reports Directional Accuracy, MAE, RMSE.  \n",
    "The tool runs on a held-out universe and dates for marking."
   ]
  },
  {
   "cell_type": "markdown",
   "id": "7c8f1fbc-e2c8-4f8b-8421-4fdff98adaeb",
   "metadata": {},
   "source": [
    "## Assessment rubric (100 marks total)\n",
    "### A. Test results by `mltester`(50)\n",
    "*Assessed on the held-out universe using staff tools.*  \n",
    "**Excellent** (21–25): strong/consistent across tickers; stable.  \n",
    "**Good** (16–20): generally solid; minor instability.  \n",
    "**Adequate** (11–15): modest improvement; fragile/inconsistent.  \n",
    "**Poor** (0–10): little/no signal; erratic or broken outputs.\n",
    "### B. Evaluation depth & ML use (40)\n",
    "**Overall experimental design** (10) — time-aware splits; windows documented; re-fit cadence justified.  \n",
    "**Breadth of exploration** (10) — multiple algorithms/parameters/feature sets; rationale; comparisons to simple baselines.  \n",
    "**Leakage control & validation discipline** (10) — correct fit/transform separation; no peeking; proper alignment.  \n",
    "**Metrics & analysis** (10) — appropriate ML metrics; clear tables/plots; basic robustness (sensitivity to windows/params/seeds).  \n",
    "*Per-criterion bands (out of 10): Excellent (9–10) thorough & well-justified; Good (7–8) solid, minor gaps; Adequate (5–6) basic; Poor (0–4) superficial/incorrect.*  \n",
    "### C. Notebook quality (10)\n",
    "**Reproducibility & clarity** (10) — fixed seeds; requirements.txt cell; how-to-run notes; clear structure/comments; runs cleanly (< 15 min/ticker).  \n",
    "*Excellent (9–10) polished/easy to run; Good (7–8) minor rough edges; Adequate (5–6) runs but messy; Poor (0–4) hard to follow or fails to run.*\n",
    "## Penalties & guidance\n",
    "Modifying tester rules: runability fail + heavy penalties.  \n",
    "Obvious leakage or irreproducible results: up to −30 marks.  \n",
    "Notebook that does not run end-to-end: 0 for Section A and −5 to −10 in Section C.  "
   ]
  },
  {
   "cell_type": "markdown",
   "id": "aa070a01-8177-45fc-ab36-44b1e86b3646",
   "metadata": {},
   "source": [
    "## Submission\n",
    "Submit one file: ECS8051_CW1_\\<StudentID\\>.ipynb.  \n",
    "No external files required (we will import Student directly from your notebook).  \n",
    "Late penalties as per School policy."
   ]
  },
  {
   "cell_type": "code",
   "execution_count": null,
   "id": "7da25518-18b1-487a-885d-5fd0657d73c4",
   "metadata": {},
   "outputs": [],
   "source": []
  }
 ],
 "metadata": {
  "kernelspec": {
   "display_name": "Python 3 (ipykernel)",
   "language": "python",
   "name": "python3"
  },
  "language_info": {
   "codemirror_mode": {
    "name": "ipython",
    "version": 3
   },
   "file_extension": ".py",
   "mimetype": "text/x-python",
   "name": "python",
   "nbconvert_exporter": "python",
   "pygments_lexer": "ipython3",
   "version": "3.13.5"
  }
 },
 "nbformat": 4,
 "nbformat_minor": 5
}
